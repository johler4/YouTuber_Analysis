{
 "cells": [
  {
   "cell_type": "markdown",
   "id": "11205579",
   "metadata": {},
   "source": [
    "# Global YouTube Statistics 2023"
   ]
  },
  {
   "cell_type": "markdown",
   "id": "140929e7",
   "metadata": {},
   "source": [
    "Welcome to the captivating realm of YouTube stardom, where this meticulously curated dataset unveils the statistics of the most subscribed YouTube channels. A collection of YouTube giants, this dataset offers a perfect avenue to analyze and gain valuable insights from the luminaries of the platform. With comprehensve details on top creators' subscriber counts, video views, upload frequency, country of origin, earnings, and more, this treasure trove of infromation is a must-explore for aspiring content creators, data enthusiasts, and anyone intrigued by the ever-evolving online content landscape. Immerse yourself in the world of Youtube success and unlock a wealth of knowledge with this extraordinary dataset."
   ]
  },
  {
   "cell_type": "markdown",
   "id": "acf15ed0",
   "metadata": {},
   "source": [
    "# Project:\n",
    "Today we are going to use the available data to assist us with our new idea of starting a YouTube channel! Utilizing our knowledge of analyzing, filtering, and visualizing data, we are going to try to figure out if there is a specific idea or category of videos that we should focus on for our channel. Things that we should take into consideration are: fan-base sizes, channel growth-rates, moneys earned, outreach/collaboration possibilities, and anything else we may stumble accross during our research phase that might affect our decision of what kinds of videos to make.\n",
    "\n",
    "Things we are going to explore:\n",
    "- YouTube categories\n",
    "- Moneys earned\n",
    "- Related Channels\n",
    "- Location"
   ]
  },
  {
   "cell_type": "markdown",
   "id": "9a5e37d5",
   "metadata": {},
   "source": [
    "## Outline:\n",
    "**Category**\n",
    "1) What categories are most prevalent in the top rankings?\n",
    "    - Is too much saturation a good or bad thing?\n",
    "3) What cateogry has the highest overall amount of subscribers?\n",
    "\n",
    "**Moneys Earned**\n",
    "1) Is there a relationship between more moneys based on categories?\n",
    "2) Is there a relationship between more moneys based on location?\n",
    "\n",
    "**Help/Outreach**\n",
    "1) What are some channels in each category that we could potentially reach out to for help/networking?\n",
    "2) We may want to focus on lower sub-count/rank channels because they may be more likely to collab with us.\n",
    "\n",
    "**Location**\n",
    "1) Whats the spread of categories based on location?\n",
    "\n",
    "**Trending**\n",
    "1) What categories have been recently trending?\n",
    "    - Consider views and subscribers."
   ]
  },
  {
   "cell_type": "markdown",
   "id": "edca196a",
   "metadata": {},
   "source": [
    "## EDA\n",
    "\n",
    "Before starting to analyze the data to answer the questions above, let's first get some exploratory summary data and see if we need to consider any cleaning of our data."
   ]
  },
  {
   "cell_type": "markdown",
   "id": "34194054",
   "metadata": {},
   "source": [
    "Information from Kaggle about the columns within the dataset:\n",
    "Columns:\n",
    "- rank: Position of the YouTube channel based on the number of subscribers\n",
    "- Youtuber: Name of the YouTube channel\n",
    "- subscribers: Number of subscribers to the channel\n",
    "- video views: Total views across all videos on the channel\n",
    "- category: Category or niche of the channel\n",
    "- Title: Title of the YouTube channel\n",
    "- uploads: Total number of videos uploaded on the channel\n",
    "- Country: Country where the YouTube channel originates\n",
    "- Abbreviation: Abbreviation of the country\n",
    "- channel_type: Type of the YouTube channel (e.g., individual, brand)\n",
    "- video_views_rank: Ranking of the channel based on total video views\n",
    "- country_rank: Ranking of the channel based on the number of subscribers wi thin its country\n",
    "- channel_type_rank: Ranking of the channel based on its type (individual or brand)\n",
    "- video_views_for_the_last_30_days: Total video views in the last 30 days\n",
    "- lowest_monthly_earnings: Lowest estimated monthly earnings from the channel\n",
    "- highest_monthly_earnings: Highest estimated monthly earnings from the channel\n",
    "- lowest_yearly_earnings: Lowest estimated yearly earnings from the channel\n",
    "- highest_yearly_earnings: Highest estimated yearly earnings from the channel\n",
    "- subscribers_for_last_30_days: Number of new subscribers gained in the last 30 days\n",
    "- created_year: Year when the YouTube channel was created\n",
    "- created_month: Month when the YouTube channel was created\n",
    "- created_date: Exact date of the YouTube channel's creation\n",
    "- Gross tertiary education enrollment (%): Percentage of the population enrolled in tertiary education in the country\n",
    "- Population: Total population of the country\n",
    "- Unemployment rate: Unemployment rate in the country\n",
    "- Urban_population: Percentage of the population living in urban areas\n",
    "- Latitude: Latitude coordinate of the country's location\n",
    "- Longitude: Longitude coordinate of the country's location"
   ]
  },
  {
   "cell_type": "code",
   "execution_count": 1,
   "id": "b3c26eec",
   "metadata": {},
   "outputs": [],
   "source": [
    "import pandas as pd\n",
    "import numpy as np\n",
    "import matplotlib.pyplot as plt\n",
    "import seaborn as sns\n",
    "\n",
    "data = pd.read_csv('Global_Youtube_Statistics.csv', encoding='latin1')"
   ]
  },
  {
   "cell_type": "code",
   "execution_count": 2,
   "id": "6e596b65",
   "metadata": {},
   "outputs": [
    {
     "name": "stdout",
     "output_type": "stream",
     "text": [
      "<class 'pandas.core.frame.DataFrame'>\n",
      "RangeIndex: 995 entries, 0 to 994\n",
      "Data columns (total 28 columns):\n",
      " #   Column                                   Non-Null Count  Dtype  \n",
      "---  ------                                   --------------  -----  \n",
      " 0   rank                                     995 non-null    int64  \n",
      " 1   Youtuber                                 995 non-null    object \n",
      " 2   subscribers                              995 non-null    int64  \n",
      " 3   video views                              995 non-null    float64\n",
      " 4   category                                 949 non-null    object \n",
      " 5   Title                                    995 non-null    object \n",
      " 6   uploads                                  995 non-null    int64  \n",
      " 7   Country                                  873 non-null    object \n",
      " 8   Abbreviation                             873 non-null    object \n",
      " 9   channel_type                             965 non-null    object \n",
      " 10  video_views_rank                         994 non-null    float64\n",
      " 11  country_rank                             879 non-null    float64\n",
      " 12  channel_type_rank                        962 non-null    float64\n",
      " 13  video_views_for_the_last_30_days         939 non-null    float64\n",
      " 14  lowest_monthly_earnings                  995 non-null    float64\n",
      " 15  highest_monthly_earnings                 995 non-null    float64\n",
      " 16  lowest_yearly_earnings                   995 non-null    float64\n",
      " 17  highest_yearly_earnings                  995 non-null    float64\n",
      " 18  subscribers_for_last_30_days             658 non-null    float64\n",
      " 19  created_year                             990 non-null    float64\n",
      " 20  created_month                            990 non-null    object \n",
      " 21  created_date                             990 non-null    float64\n",
      " 22  Gross tertiary education enrollment (%)  872 non-null    float64\n",
      " 23  Population                               872 non-null    float64\n",
      " 24  Unemployment rate                        872 non-null    float64\n",
      " 25  Urban_population                         872 non-null    float64\n",
      " 26  Latitude                                 872 non-null    float64\n",
      " 27  Longitude                                872 non-null    float64\n",
      "dtypes: float64(18), int64(3), object(7)\n",
      "memory usage: 217.8+ KB\n",
      "None\n"
     ]
    }
   ],
   "source": [
    "print(data.info())"
   ]
  },
  {
   "cell_type": "markdown",
   "id": "b740ab54",
   "metadata": {},
   "source": [
    "**EDA:**\n",
    "- Number of rows\n",
    "- Number of Categories/list of\n",
    "- Number of Countries/list of\n",
    "- Summary of dtypes\n",
    "- Statistical summaries of numerical datatypes\n",
    "- Short view of overall dataset"
   ]
  },
  {
   "cell_type": "code",
   "execution_count": 3,
   "id": "4bc7f5e0",
   "metadata": {},
   "outputs": [
    {
     "name": "stdout",
     "output_type": "stream",
     "text": [
      "995\n"
     ]
    }
   ],
   "source": [
    "print(len(data))"
   ]
  },
  {
   "cell_type": "code",
   "execution_count": 4,
   "id": "4187a507",
   "metadata": {},
   "outputs": [
    {
     "name": "stdout",
     "output_type": "stream",
     "text": [
      "18\n",
      "['Music' 'Film & Animation' 'Entertainment' 'Education' 'Shows' nan\n",
      " 'People & Blogs' 'Gaming' 'Sports' 'Howto & Style' 'News & Politics'\n",
      " 'Comedy' 'Trailers' 'Nonprofits & Activism' 'Science & Technology'\n",
      " 'Movies' 'Pets & Animals' 'Autos & Vehicles' 'Travel & Events']\n"
     ]
    }
   ],
   "source": [
    "print(data.category.nunique())\n",
    "print(data.category.unique())"
   ]
  },
  {
   "cell_type": "code",
   "execution_count": 5,
   "id": "092394ce",
   "metadata": {},
   "outputs": [
    {
     "name": "stdout",
     "output_type": "stream",
     "text": [
      "49\n",
      "['India' 'United States' nan 'Japan' 'Russia' 'South Korea'\n",
      " 'United Kingdom' 'Canada' 'Brazil' 'Argentina' 'Chile' 'Cuba'\n",
      " 'El Salvador' 'Pakistan' 'Philippines' 'Thailand' 'Colombia' 'Barbados'\n",
      " 'Mexico' 'United Arab Emirates' 'Spain' 'Saudi Arabia' 'Indonesia'\n",
      " 'Turkey' 'Venezuela' 'Kuwait' 'Jordan' 'Netherlands' 'Singapore'\n",
      " 'Australia' 'Italy' 'Germany' 'France' 'Sweden' 'Afghanistan' 'Ukraine'\n",
      " 'Latvia' 'Switzerland' 'Vietnam' 'Malaysia' 'China' 'Iraq' 'Egypt'\n",
      " 'Andorra' 'Ecuador' 'Morocco' 'Peru' 'Bangladesh' 'Finland' 'Samoa']\n"
     ]
    }
   ],
   "source": [
    "print(data.Country.nunique())\n",
    "print(data.Country.unique())"
   ]
  },
  {
   "cell_type": "code",
   "execution_count": 6,
   "id": "354a66a0",
   "metadata": {},
   "outputs": [
    {
     "name": "stdout",
     "output_type": "stream",
     "text": [
      "<class 'pandas.core.frame.DataFrame'>\n",
      "RangeIndex: 995 entries, 0 to 994\n",
      "Data columns (total 28 columns):\n",
      " #   Column                                   Non-Null Count  Dtype  \n",
      "---  ------                                   --------------  -----  \n",
      " 0   rank                                     995 non-null    int64  \n",
      " 1   Youtuber                                 995 non-null    object \n",
      " 2   subscribers                              995 non-null    int64  \n",
      " 3   video views                              995 non-null    float64\n",
      " 4   category                                 949 non-null    object \n",
      " 5   Title                                    995 non-null    object \n",
      " 6   uploads                                  995 non-null    int64  \n",
      " 7   Country                                  873 non-null    object \n",
      " 8   Abbreviation                             873 non-null    object \n",
      " 9   channel_type                             965 non-null    object \n",
      " 10  video_views_rank                         994 non-null    float64\n",
      " 11  country_rank                             879 non-null    float64\n",
      " 12  channel_type_rank                        962 non-null    float64\n",
      " 13  video_views_for_the_last_30_days         939 non-null    float64\n",
      " 14  lowest_monthly_earnings                  995 non-null    float64\n",
      " 15  highest_monthly_earnings                 995 non-null    float64\n",
      " 16  lowest_yearly_earnings                   995 non-null    float64\n",
      " 17  highest_yearly_earnings                  995 non-null    float64\n",
      " 18  subscribers_for_last_30_days             658 non-null    float64\n",
      " 19  created_year                             990 non-null    float64\n",
      " 20  created_month                            990 non-null    object \n",
      " 21  created_date                             990 non-null    float64\n",
      " 22  Gross tertiary education enrollment (%)  872 non-null    float64\n",
      " 23  Population                               872 non-null    float64\n",
      " 24  Unemployment rate                        872 non-null    float64\n",
      " 25  Urban_population                         872 non-null    float64\n",
      " 26  Latitude                                 872 non-null    float64\n",
      " 27  Longitude                                872 non-null    float64\n",
      "dtypes: float64(18), int64(3), object(7)\n",
      "memory usage: 217.8+ KB\n",
      "None\n"
     ]
    }
   ],
   "source": [
    "print(data.info())"
   ]
  },
  {
   "cell_type": "code",
   "execution_count": 7,
   "id": "96356f3b",
   "metadata": {},
   "outputs": [
    {
     "name": "stdout",
     "output_type": "stream",
     "text": [
      "            rank   subscribers   video views        uploads  video_views_rank  \\\n",
      "count  995.00000  9.950000e+02  9.950000e+02     995.000000      9.940000e+02   \n",
      "mean   498.00000  2.298241e+07  1.103954e+10    9187.125628      5.542489e+05   \n",
      "std    287.37606  1.752611e+07  1.411084e+10   34151.352254      1.362782e+06   \n",
      "min      1.00000  1.230000e+07  0.000000e+00       0.000000      1.000000e+00   \n",
      "25%    249.50000  1.450000e+07  4.288145e+09     194.500000      3.230000e+02   \n",
      "50%    498.00000  1.770000e+07  7.760820e+09     729.000000      9.155000e+02   \n",
      "75%    746.50000  2.460000e+07  1.355470e+10    2667.500000      3.584500e+03   \n",
      "max    995.00000  2.450000e+08  2.280000e+11  301308.000000      4.057944e+06   \n",
      "\n",
      "       country_rank  channel_type_rank  video_views_for_the_last_30_days  \\\n",
      "count    879.000000         962.000000                      9.390000e+02   \n",
      "mean     386.053470         745.719335                      1.756103e+08   \n",
      "std     1232.244746        1944.386561                      4.163782e+08   \n",
      "min        1.000000           1.000000                      1.000000e+00   \n",
      "25%       11.000000          27.000000                      2.013750e+07   \n",
      "50%       51.000000          65.500000                      6.408500e+07   \n",
      "75%      123.000000         139.750000                      1.688265e+08   \n",
      "max     7741.000000        7741.000000                      6.589000e+09   \n",
      "\n",
      "       lowest_monthly_earnings  highest_monthly_earnings  ...  \\\n",
      "count               995.000000              9.950000e+02  ...   \n",
      "mean              36886.148281              5.898078e+05  ...   \n",
      "std               71858.724092              1.148622e+06  ...   \n",
      "min                   0.000000              0.000000e+00  ...   \n",
      "25%                2700.000000              4.350000e+04  ...   \n",
      "50%               13300.000000              2.127000e+05  ...   \n",
      "75%               37900.000000              6.068000e+05  ...   \n",
      "max              850900.000000              1.360000e+07  ...   \n",
      "\n",
      "       highest_yearly_earnings  subscribers_for_last_30_days  created_year  \\\n",
      "count             9.950000e+02                  6.580000e+02    990.000000   \n",
      "mean              7.081814e+06                  3.490791e+05   2012.630303   \n",
      "std               1.379704e+07                  6.143554e+05      4.512503   \n",
      "min               0.000000e+00                  1.000000e+00   1970.000000   \n",
      "25%               5.217500e+05                  1.000000e+05   2009.000000   \n",
      "50%               2.600000e+06                  2.000000e+05   2013.000000   \n",
      "75%               7.300000e+06                  4.000000e+05   2016.000000   \n",
      "max               1.634000e+08                  8.000000e+06   2022.000000   \n",
      "\n",
      "       created_date  Gross tertiary education enrollment (%)    Population  \\\n",
      "count    990.000000                               872.000000  8.720000e+02   \n",
      "mean      15.746465                                63.627752  4.303873e+08   \n",
      "std        8.777520                                26.106893  4.727947e+08   \n",
      "min        1.000000                                 7.600000  2.025060e+05   \n",
      "25%        8.000000                                36.300000  8.335541e+07   \n",
      "50%       16.000000                                68.000000  3.282395e+08   \n",
      "75%       23.000000                                88.200000  3.282395e+08   \n",
      "max       31.000000                               113.100000  1.397715e+09   \n",
      "\n",
      "       Unemployment rate  Urban_population    Latitude   Longitude  \n",
      "count         872.000000      8.720000e+02  872.000000  872.000000  \n",
      "mean            9.279278      2.242150e+08   26.632783  -14.128146  \n",
      "std             4.888354      1.546874e+08   20.560533   84.760809  \n",
      "min             0.750000      3.558800e+04  -38.416097 -172.104629  \n",
      "25%             5.270000      5.590832e+07   20.593684  -95.712891  \n",
      "50%             9.365000      2.706630e+08   37.090240  -51.925280  \n",
      "75%            14.700000      2.706630e+08   37.090240   78.962880  \n",
      "max            14.720000      8.429340e+08   61.924110  138.252924  \n",
      "\n",
      "[8 rows x 21 columns]\n"
     ]
    }
   ],
   "source": [
    "print(data.describe())"
   ]
  },
  {
   "cell_type": "code",
   "execution_count": 8,
   "id": "3c16bfee",
   "metadata": {},
   "outputs": [
    {
     "name": "stdout",
     "output_type": "stream",
     "text": [
      "   rank                    Youtuber  subscribers   video views  \\\n",
      "0     1                    T-Series    245000000  2.280000e+11   \n",
      "1     2              YouTube Movies    170000000  0.000000e+00   \n",
      "2     3                     MrBeast    166000000  2.836884e+10   \n",
      "3     4  Cocomelon - Nursery Rhymes    162000000  1.640000e+11   \n",
      "4     5                   SET India    159000000  1.480000e+11   \n",
      "\n",
      "           category                       Title  uploads        Country  \\\n",
      "0             Music                    T-Series    20082          India   \n",
      "1  Film & Animation               youtubemovies        1  United States   \n",
      "2     Entertainment                     MrBeast      741  United States   \n",
      "3         Education  Cocomelon - Nursery Rhymes      966  United States   \n",
      "4             Shows                   SET India   116536          India   \n",
      "\n",
      "  Abbreviation   channel_type  ...  subscribers_for_last_30_days  \\\n",
      "0           IN          Music  ...                     2000000.0   \n",
      "1           US          Games  ...                           NaN   \n",
      "2           US  Entertainment  ...                     8000000.0   \n",
      "3           US      Education  ...                     1000000.0   \n",
      "4           IN  Entertainment  ...                     1000000.0   \n",
      "\n",
      "   created_year  created_month  created_date  \\\n",
      "0        2006.0            Mar          13.0   \n",
      "1        2006.0            Mar           5.0   \n",
      "2        2012.0            Feb          20.0   \n",
      "3        2006.0            Sep           1.0   \n",
      "4        2006.0            Sep          20.0   \n",
      "\n",
      "   Gross tertiary education enrollment (%)    Population  Unemployment rate  \\\n",
      "0                                     28.1  1.366418e+09               5.36   \n",
      "1                                     88.2  3.282395e+08              14.70   \n",
      "2                                     88.2  3.282395e+08              14.70   \n",
      "3                                     88.2  3.282395e+08              14.70   \n",
      "4                                     28.1  1.366418e+09               5.36   \n",
      "\n",
      "   Urban_population   Latitude  Longitude  \n",
      "0       471031528.0  20.593684  78.962880  \n",
      "1       270663028.0  37.090240 -95.712891  \n",
      "2       270663028.0  37.090240 -95.712891  \n",
      "3       270663028.0  37.090240 -95.712891  \n",
      "4       471031528.0  20.593684  78.962880  \n",
      "\n",
      "[5 rows x 28 columns]\n"
     ]
    }
   ],
   "source": [
    "print(data.head())"
   ]
  },
  {
   "cell_type": "markdown",
   "id": "4b3c3d92",
   "metadata": {},
   "source": [
    "**EDA Notes:**\n",
    "- Number of rows\n",
    "    - 995 (YouTubers)\n",
    "- Number of Categories/list of\n",
    "    - 18\n",
    "- Number of Countries/list of\n",
    "    - 49\n",
    "- Summary of dtypes\n",
    "    - All variables look to be categorized under the correct datatypes.\n",
    "    - 'subscribes_for_last_30_days' only hs 658 non-null values\n",
    "- Statistical summaries of numerical datatypes\n",
    "   - uploads and video_views both have minimum values of 0, maybe some incorrect entries?\n",
    "   - upload_year has a minimum value of 1970 but YouTube wasn't created until 2005. Also, the internet wasn't a thing in 1970...\n",
    "- Short view of overall dataset\n",
    "    - Will find out more upon further exploration."
   ]
  },
  {
   "cell_type": "markdown",
   "id": "31681fd3",
   "metadata": {},
   "source": [
    "## Data Analysis:"
   ]
  },
  {
   "cell_type": "markdown",
   "id": "93bcd727",
   "metadata": {},
   "source": [
    "**Category (C)**\n",
    "1) What categories are most prevalent in the top rankings?\n",
    "    - Is too much saturation a good or bad thing?\n",
    "2) What cateogry has the highest overall amount of subscribers?"
   ]
  },
  {
   "cell_type": "code",
   "execution_count": 61,
   "id": "4ea12445",
   "metadata": {},
   "outputs": [
    {
     "name": "stdout",
     "output_type": "stream",
     "text": [
      "                 category  count\n",
      "0           Entertainment    241\n",
      "1                   Music    202\n",
      "2          People & Blogs    132\n",
      "3                  Gaming     94\n",
      "4                  Comedy     69\n",
      "5        Film & Animation     46\n",
      "6               Education     45\n",
      "7           Howto & Style     40\n",
      "8         News & Politics     26\n",
      "9    Science & Technology     17\n",
      "10                  Shows     13\n",
      "11                 Sports     11\n",
      "12         Pets & Animals      4\n",
      "13               Trailers      2\n",
      "14  Nonprofits & Activism      2\n",
      "15                 Movies      2\n",
      "16       Autos & Vehicles      2\n",
      "17        Travel & Events      1\n"
     ]
    }
   ],
   "source": [
    "# C1 - What categories are most prevalent in the top rankings?\n",
    "print(data.category.value_counts().reset_index())"
   ]
  },
  {
   "cell_type": "code",
   "execution_count": 60,
   "id": "2efcac86",
   "metadata": {},
   "outputs": [
    {
     "name": "stdout",
     "output_type": "stream",
     "text": [
      "                 category  subscribers\n",
      "0                   Music   5195000000\n",
      "1           Entertainment   5158200000\n",
      "2          People & Blogs   2779400000\n",
      "3                  Gaming   1960100000\n",
      "4                  Comedy   1388500000\n",
      "5        Film & Animation   1314900000\n",
      "6               Education   1194400000\n",
      "7           Howto & Style    775600000\n",
      "8                   Shows    541000000\n",
      "9         News & Politics    536400000\n",
      "10   Science & Technology    316500000\n",
      "11                 Sports    298200000\n",
      "12               Trailers     78000000\n",
      "13         Pets & Animals     72400000\n",
      "14  Nonprofits & Activism     55500000\n",
      "15                 Movies     51300000\n",
      "16       Autos & Vehicles     35700000\n",
      "17        Travel & Events     12500000\n"
     ]
    }
   ],
   "source": [
    "# C2: What category has the highest overall amount of subscribers?\n",
    "print(data[['category', 'subscribers']].groupby('category').sum('subscribers').sort_values('subscribers', ascending=False).reset_index())"
   ]
  },
  {
   "cell_type": "markdown",
   "id": "bc5d6b78",
   "metadata": {},
   "source": [
    "**Moneys Earned (M)**\n",
    "1) Is there a relationship between more moneys based on categories?\n",
    "2) Is there a relationship between more moneys based on location?"
   ]
  },
  {
   "cell_type": "code",
   "execution_count": 59,
   "id": "ce5ee2f2",
   "metadata": {},
   "outputs": [
    {
     "name": "stdout",
     "output_type": "stream",
     "text": [
      "                 category  highest_monthly_earnings\n",
      "0                   Shows              2.037662e+06\n",
      "1        Autos & Vehicles              1.086350e+06\n",
      "2                  Sports              8.069364e+05\n",
      "3          Pets & Animals              7.944322e+05\n",
      "4        Film & Animation              7.327018e+05\n",
      "5               Education              6.951778e+05\n",
      "6                  Comedy              6.683122e+05\n",
      "7         News & Politics              6.426320e+05\n",
      "8           Entertainment              6.226426e+05\n",
      "9                   Music              5.522996e+05\n",
      "10         People & Blogs              5.468421e+05\n",
      "11                 Movies              4.547000e+05\n",
      "12  Nonprofits & Activism              3.904000e+05\n",
      "13               Trailers              3.619000e+05\n",
      "14                 Gaming              2.719054e+05\n",
      "15   Science & Technology              2.020432e+05\n",
      "16          Howto & Style              1.927991e+05\n",
      "17        Travel & Events              1.240000e+05\n"
     ]
    }
   ],
   "source": [
    "# M1: Is there a relationship between more moneys based on categories?\n",
    "# Columns dealing with moneys:\n",
    "# lowest_monthly_earnings, highest_monthly_earnings, lowest_yearly_earnings, highest_yearly_earnings\n",
    "\n",
    "# PART 1 -- highest_monthly_earnings\n",
    "print(data[['category', 'highest_monthly_earnings']].groupby('category').mean('highest_monthly_earnings').sort_values('highest_monthly_earnings', ascending=False).reset_index())"
   ]
  },
  {
   "cell_type": "code",
   "execution_count": 12,
   "id": "1c7f7f65",
   "metadata": {},
   "outputs": [
    {
     "name": "stdout",
     "output_type": "stream",
     "text": [
      "                       lowest_monthly_earnings\n",
      "category                                      \n",
      "Shows                            126961.538462\n",
      "Autos & Vehicles                  68300.000000\n",
      "Sports                            50063.636364\n",
      "Pets & Animals                    49975.500000\n",
      "Film & Animation                  45785.087174\n",
      "Education                         43371.311333\n",
      "Comedy                            41867.536232\n",
      "News & Politics                   40192.625000\n",
      "Entertainment                     38973.470539\n",
      "Music                             34592.348564\n",
      "People & Blogs                    34177.009167\n",
      "Movies                            28400.000000\n",
      "Nonprofits & Activism             24400.000000\n",
      "Trailers                          22600.000000\n",
      "Gaming                            16957.979574\n",
      "Science & Technology              12635.411765\n",
      "Howto & Style                     12069.850500\n",
      "Travel & Events                    7800.000000\n"
     ]
    }
   ],
   "source": [
    "# M1: Is there a relationship between more moneys based on categories?\n",
    "# Columns dealing with moneys:\n",
    "# lowest_monthly_earnings, highest_monthly_earnings, lowest_yearly_earnings, highest_yearly_earnings\n",
    "\n",
    "# PART 2 -- lowest_monthly_earnings\n",
    "print(data[['category', 'lowest_monthly_earnings']].groupby('category').mean('lowest_monthly_earnings').sort_values('lowest_monthly_earnings', ascending=False))\n",
    "\n",
    "# # create function to sum and sort values of a category for specified column\n",
    "# def sort_cat_by_sum(data, column_name):\n",
    "#     print(data[['category', column_name]].groupby('category').sum(column_name).sort_values(column_name, ascending=False))"
   ]
  },
  {
   "cell_type": "code",
   "execution_count": 87,
   "id": "bdf65dba",
   "metadata": {},
   "outputs": [
    {
     "name": "stdout",
     "output_type": "stream",
     "text": [
      "                 Country  highest_monthly_earnings\n",
      "0                 Latvia              5.000000e+06\n",
      "1                  Italy              2.509750e+06\n",
      "2               Pakistan              2.166706e+06\n",
      "3                 Turkey              2.015225e+06\n",
      "4            South Korea              1.566065e+06\n",
      "5   United Arab Emirates              1.442786e+06\n",
      "6                  Japan              1.391342e+06\n",
      "7              Argentina              9.590692e+05\n",
      "8                Germany              9.399753e+05\n",
      "9                  India              8.880131e+05\n",
      "10              Colombia              8.734455e+05\n",
      "11              Barbados              7.317000e+05\n",
      "12                Russia              7.232832e+05\n",
      "13                Kuwait              6.316000e+05\n",
      "14         United States              5.802160e+05\n",
      "15                Sweden              5.738000e+05\n",
      "16           Philippines              5.674000e+05\n",
      "17                Jordan              4.975000e+05\n",
      "18               Vietnam              4.928000e+05\n",
      "19              Malaysia              4.709000e+05\n",
      "20                Brazil              4.653079e+05\n",
      "21                Canada              4.099133e+05\n",
      "22              Thailand              3.668111e+05\n",
      "23             Indonesia              3.520643e+05\n",
      "24        United Kingdom              3.405599e+05\n",
      "25               Ukraine              3.327001e+05\n",
      "26                  Iraq              2.966500e+05\n",
      "27             Australia              2.726223e+05\n",
      "28           Netherlands              2.548000e+05\n",
      "29           Switzerland              2.355000e+05\n",
      "30                 Chile              2.221667e+05\n",
      "31                Mexico              2.187509e+05\n",
      "32          Saudi Arabia              1.877556e+05\n",
      "33                 Spain              1.836713e+05\n",
      "34               Ecuador              1.586000e+05\n",
      "35                 Egypt              1.579500e+05\n",
      "36             Singapore              1.575333e+05\n",
      "37               Morocco              1.503000e+05\n",
      "38           El Salvador              1.354000e+05\n",
      "39                 China              8.940000e+04\n",
      "40               Finland              8.150000e+04\n",
      "41                France              7.200120e+04\n",
      "42                  Peru              4.000000e+03\n",
      "43             Venezuela              1.400000e+01\n",
      "44                 Samoa              2.000000e+00\n",
      "45                  Cuba              3.800000e-01\n",
      "46               Andorra              3.400000e-01\n",
      "47            Bangladesh              0.000000e+00\n",
      "48           Afghanistan              0.000000e+00\n"
     ]
    }
   ],
   "source": [
    "# M2: Is there a relationship between more moneys based on location?\n",
    "print(data[['Country', 'highest_monthly_earnings']].groupby('Country').mean('highest_monthly_earnings').sort_values('highest_monthly_earnings', ascending=False).reset_index())"
   ]
  },
  {
   "cell_type": "markdown",
   "id": "0244283d",
   "metadata": {},
   "source": [
    "**Help/Outreach (H)**\n",
    "1) What are some channels in each category that we could potentially reach out to for help/networking?\n",
    "2) What channels are on the lower ranks in the category field that we're going into? We may want to focus on lower sub-count/rank channels because they may be more likely to collab with us."
   ]
  },
  {
   "cell_type": "code",
   "execution_count": 33,
   "id": "3753abe4",
   "metadata": {},
   "outputs": [
    {
     "name": "stdout",
     "output_type": "stream",
     "text": [
      "2                       MrBeast\n",
      "9                 Vlad and Niki\n",
      "21                       Zee TV\n",
      "36                   Marshmello\n",
      "46                   Get Movies\n",
      "                 ...           \n",
      "962              Family Fitness\n",
      "963                   Zee Tamil\n",
      "964              Flowers Comedy\n",
      "976              SAAIHALILINTAR\n",
      "978    Heidi and Zidane HZHtube\n",
      "Name: Youtuber, Length: 241, dtype: object\n"
     ]
    }
   ],
   "source": [
    "# H1: What are some channels in each category that we could potentially reach out to for help/networking?\n",
    "# create a function to print channels titles based on category of choice:\n",
    "def find_channels(data, category_type):\n",
    "    filtered_df = data[data.category == category_type]\n",
    "    print(filtered_df.Youtuber)\n",
    "    \n",
    "# print channels for top ranked category (Entertainment)\n",
    "find_channels(data, 'Entertainment')"
   ]
  },
  {
   "cell_type": "code",
   "execution_count": 54,
   "id": "91b0be2b",
   "metadata": {},
   "outputs": [
    {
     "name": "stdout",
     "output_type": "stream",
     "text": [
      "2                       MrBeast\n",
      "9                 Vlad and Niki\n",
      "21                       Zee TV\n",
      "36                   Marshmello\n",
      "46                   Get Movies\n",
      "                 ...           \n",
      "962              Family Fitness\n",
      "963                   Zee Tamil\n",
      "964              Flowers Comedy\n",
      "976              SAAIHALILINTAR\n",
      "978    Heidi and Zidane HZHtube\n",
      "Name: Youtuber, Length: 241, dtype: object\n",
      "\n",
      "Entertainment Channels in United States\n",
      "2                         MrBeast\n",
      "9                   Vlad and Niki\n",
      "36                     Marshmello\n",
      "68               Like Nastya Show\n",
      "88                   TheEllenShow\n",
      "                  ...            \n",
      "886                   Ryan Trahan\n",
      "906                  JesseAndMike\n",
      "915              Top Viral Talent\n",
      "937    YoungBoy Never Broke Again\n",
      "949                People Vs Food\n",
      "Name: Youtuber, Length: 68, dtype: object\n"
     ]
    }
   ],
   "source": [
    "# H2: What channels are on the lower ranks in the category field that we're going into?\n",
    "# can use the same function as above, the output shows top and bottom 5 channels\n",
    "find_channels(data, 'Entertainment')\n",
    "print()\n",
    "\n",
    "# But we are located in the US, what if we only want channels in the category of choice that are within our home country?\n",
    "def find_channels_by_country(data, category_type, country):\n",
    "    print(f'{category_type} Channels in {country}')\n",
    "    filtered_df = data[(data.category == category_type) & (data.Country == country)]\n",
    "    print(filtered_df.Youtuber)\n",
    "\n",
    "find_channels_by_country(data, 'Entertainment', 'United States')"
   ]
  },
  {
   "cell_type": "code",
   "execution_count": 84,
   "id": "f783de84",
   "metadata": {},
   "outputs": [
    {
     "name": "stdout",
     "output_type": "stream",
     "text": [
      "Gaming Channels in United States\n",
      "110                   Markiplier\n",
      "121                 SSSniperWolf\n",
      "146                        Dream\n",
      "265                      Preston\n",
      "272                        Ninja\n",
      "313                      SSundee\n",
      "316                       FGTeeV\n",
      "414                    AS Gaming\n",
      "418               Clash of Clans\n",
      "467                   IShowSpeed\n",
      "514                          IGN\n",
      "515                       Aphmau\n",
      "537                  Guava Juice\n",
      "549                 CoryxKenshin\n",
      "579                  Technoblade\n",
      "611                  Unspeakable\n",
      "640    Mobile Legends: Bang Bang\n",
      "679            League of Legends\n",
      "682                  PlayStation\n",
      "683                   Kwebbelkop\n",
      "727                       Jesser\n",
      "729                 PrestonPlayz\n",
      "856                 H2ODelirious\n",
      "861                   theRadBrad\n",
      "869                    penguinz0\n",
      "973                         LOUD\n",
      "Name: Youtuber, dtype: object\n"
     ]
    }
   ],
   "source": [
    "find_channels_by_country(data, 'Gaming', 'United States')"
   ]
  },
  {
   "cell_type": "markdown",
   "id": "845f08e1",
   "metadata": {},
   "source": [
    "**Location (L)**\n",
    "1) Whats the spread of categories based on location?"
   ]
  },
  {
   "cell_type": "code",
   "execution_count": 58,
   "id": "b6c7157e",
   "metadata": {},
   "outputs": [
    {
     "name": "stdout",
     "output_type": "stream",
     "text": [
      "category\n",
      "Music                    73\n",
      "Entertainment            68\n",
      "People & Blogs           38\n",
      "Gaming                   26\n",
      "Comedy                   22\n",
      "Education                17\n",
      "Film & Animation         12\n",
      "Howto & Style            12\n",
      "Science & Technology      6\n",
      "Sports                    5\n",
      "News & Politics           5\n",
      "Shows                     4\n",
      "Pets & Animals            2\n",
      "Nonprofits & Activism     1\n",
      "Name: count, dtype: int64\n"
     ]
    }
   ],
   "source": [
    "print(data.category[data.Country == 'United States'].value_counts())"
   ]
  },
  {
   "cell_type": "markdown",
   "id": "575a9e37",
   "metadata": {},
   "source": [
    "**Trending (T)**\n",
    "1) What categories have been recently trending?\n",
    "    - Consider views and subscribers."
   ]
  },
  {
   "cell_type": "code",
   "execution_count": 83,
   "id": "85523c30",
   "metadata": {},
   "outputs": [
    {
     "name": "stdout",
     "output_type": "stream",
     "text": [
      "rank                                         int64\n",
      "Youtuber                                    object\n",
      "subscribers                                  int64\n",
      "video views                                float64\n",
      "category                                    object\n",
      "Title                                       object\n",
      "uploads                                      int64\n",
      "Country                                     object\n",
      "Abbreviation                                object\n",
      "channel_type                                object\n",
      "video_views_rank                           float64\n",
      "country_rank                               float64\n",
      "channel_type_rank                          float64\n",
      "video_views_for_the_last_30_days           float64\n",
      "lowest_monthly_earnings                    float64\n",
      "highest_monthly_earnings                   float64\n",
      "lowest_yearly_earnings                     float64\n",
      "highest_yearly_earnings                    float64\n",
      "subscribers_for_last_30_days               float64\n",
      "created_year                               float64\n",
      "created_month                               object\n",
      "created_date                               float64\n",
      "Gross tertiary education enrollment (%)    float64\n",
      "Population                                 float64\n",
      "Unemployment rate                          float64\n",
      "Urban_population                           float64\n",
      "Latitude                                   float64\n",
      "Longitude                                  float64\n",
      "dtype: object\n"
     ]
    }
   ],
   "source": [
    "# T1: What categories have been recently trending?\n",
    "print(data.dtypes)\n",
    "# consider: video_views_for_the_last_30_days, subscribers_for_last_30_days"
   ]
  },
  {
   "cell_type": "code",
   "execution_count": 85,
   "id": "ffd075c3",
   "metadata": {},
   "outputs": [
    {
     "name": "stdout",
     "output_type": "stream",
     "text": [
      "                 category  subscribers_for_last_30_days\n",
      "0        Film & Animation                 520084.714286\n",
      "1                   Shows                 500000.153846\n",
      "2                  Comedy                 450005.818182\n",
      "3           Entertainment                 415748.503226\n",
      "4        Autos & Vehicles                 400000.000000\n",
      "5                  Movies                 400000.000000\n",
      "6          People & Blogs                 386439.852273\n",
      "7          Pets & Animals                 325001.250000\n",
      "8               Education                 308823.529412\n",
      "9                Trailers                 300000.000000\n",
      "10                 Sports                 288888.888889\n",
      "11        News & Politics                 268095.238095\n",
      "12  Nonprofits & Activism                 250000.000000\n",
      "13                 Gaming                 218644.728814\n",
      "14   Science & Technology                 206669.466667\n",
      "15                  Music                 200919.206612\n",
      "16          Howto & Style                 200000.176471\n",
      "17        Travel & Events                           NaN\n"
     ]
    }
   ],
   "source": [
    "# GR1: What categories have the highest average recent growth rate?\n",
    "# subscribers_for_last_30_days\n",
    "print(data[['category', 'subscribers_for_last_30_days']].groupby('category').mean('subscribers_for_last_30_days').sort_values('subscribers_for_last_30_days', ascending=False).reset_index())\n"
   ]
  },
  {
   "cell_type": "code",
   "execution_count": 86,
   "id": "0b23eb0c",
   "metadata": {},
   "outputs": [
    {
     "name": "stdout",
     "output_type": "stream",
     "text": [
      "                 category  video_views_for_the_last_30_days\n",
      "0                   Shows                      5.501661e+08\n",
      "1    Science & Technology                      4.654797e+08\n",
      "2        Autos & Vehicles                      2.732165e+08\n",
      "3          Pets & Animals                      2.006161e+08\n",
      "4                  Sports                      2.002255e+08\n",
      "5        Film & Animation                      1.930848e+08\n",
      "6               Education                      1.858635e+08\n",
      "7                  Comedy                      1.853106e+08\n",
      "8           Entertainment                      1.796649e+08\n",
      "9                   Music                      1.790282e+08\n",
      "10                 Movies                      1.731005e+08\n",
      "11        News & Politics                      1.607470e+08\n",
      "12               Trailers                      1.562020e+08\n",
      "13         People & Blogs                      1.432201e+08\n",
      "14  Nonprofits & Activism                      9.759050e+07\n",
      "15                 Gaming                      7.163692e+07\n",
      "16          Howto & Style                      5.081039e+07\n",
      "17        Travel & Events                      3.100700e+07\n"
     ]
    }
   ],
   "source": [
    "# video_views_for_the_last_30_days\n",
    "print(data[['category', 'video_views_for_the_last_30_days']].groupby('category').mean('video_views_for_the_last_30_days').sort_values('video_views_for_the_last_30_days', ascending=False).reset_index())\n"
   ]
  },
  {
   "cell_type": "markdown",
   "id": "a2c66ea0",
   "metadata": {},
   "source": [
    "## Findings:\n",
    "Based on our analysis of the available data of the top 995 YouTube channels, we've found that the categories featured most within the data are entertainment, music, people & blogs, gaming, and comedy. These 5 categories hold the largest amount of subsribers within that top YouTuber data. Taking that into consideration, I believe the odds of becoming a largely known YouTube channel would be best if the channel was based on one of those categories. Personally, I don't think I'm a great musician or comedian, I do, however, very much enjoy playing video games. With our data analysis and knowing what I'm good at/enjoy doing, I would most likely start an entertainment channel based on gaming.\n",
    "\n",
    "Networking with other YouTubers could make a huge difference in how quickly a new channel grows. Getting the outreach from an already established channel and/or getting tips and tricks from them could make a big impact on the growth rate for our new channel. With 26 total gaming channels in the US that are on the top YouTuber data list we have quite the number of options. Some gaming YouTubers on the lower end ranking of our data are PrestonPlayz, H2ODelirious, theRadBrad, penguinz0, and LOUD. I think smaller channels may be more apt to collabing with other lesser known channels. If we wanted to go ahead and reach out to the 'big boys' of the YouTube gamers within the US, some top channels are Markiplier, SSSniperWolf, Dream, Preston, and Ninja.\n",
    "\n",
    "Another thing that was looked into was recent trending data. Our chosen category of gaming is listed 14th on a list of average increase of subscribers within the last 30 days, and 16th on a list of average video views within the last 30 days. While these specific results of our data analysis isn't what we would want to necessarily hear, we know that our chosen category still sits within the overall top categories of the data. We also know that trending data has its ebbs and flows and that what is trending this month may not be trending next month.\n",
    "\n",
    "Overall I feel confident that an entertainment channel based on gaming is a good idea. Not only is it a top YouTuber category, but it would also be something that I would thuroughly enjoy.\n",
    "\n",
    "Some other takeaways from our data are that the average highest and lowest monthly earnings from a gaming channel; being $271,905.40 and $16957.97 respectfully. This is something we can possibly look forward to once we make it big!"
   ]
  }
 ],
 "metadata": {
  "kernelspec": {
   "display_name": "Python 3 (ipykernel)",
   "language": "python",
   "name": "python3"
  },
  "language_info": {
   "codemirror_mode": {
    "name": "ipython",
    "version": 3
   },
   "file_extension": ".py",
   "mimetype": "text/x-python",
   "name": "python",
   "nbconvert_exporter": "python",
   "pygments_lexer": "ipython3",
   "version": "3.11.4"
  }
 },
 "nbformat": 4,
 "nbformat_minor": 5
}
